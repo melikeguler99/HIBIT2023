{
 "cells": [
  {
   "cell_type": "markdown",
   "metadata": {},
   "source": [
    "<br>\n",
    "\n",
    "# Module 1 - Python basics <a id='0'></a>\n",
    "--------------------------"
   ]
  },
  {
   "cell_type": "markdown",
   "metadata": {},
   "source": [
    "<br>\n",
    "\n",
    "## Python documentation and learning resources\n",
    "\n",
    "* **Official [python documentation](https://www.python.org/doc/)**: this is the official python documentation. It also contains some tutorials.\n",
    "* **[Alternative documentation](https://www.w3schools.com/python/python_reference.asp)**: reference for built-in functions and types (easier to read, and sometimes more complete than the `help()` function). \n"
   ]
  },
  {
   "cell_type": "markdown",
   "metadata": {},
   "source": [
    "<br>\n",
    "<br>\n",
    "<br>\n",
    "\n",
    "## Python basics <a id='0'></a>\n",
    "---------------------\n",
    "\n",
    "### Variables <a id='1'></a>\n",
    "In python, as in many programming language, **objects are stored in variables**.\n",
    "* A value is **assigned** to a variable using the **`=`** sign. \n",
    "* **Important:** unlike in mathematics, the `=` sign in python is directional: the variable name must\n",
    "  always be on the left of the `=`, and the value to assign to the variable on the right.  \n",
    "\n",
    "  Example:\n",
    "  ```python\n",
    "  a = 23    # Valid assignment.\n",
    "  8 = b     # NOT a valid assignment.\n",
    "  ```\n",
    "\n",
    "\n",
    "In python, variables names must adhere to these restrictions:\n",
    "* Variable names must be **composed solely of uppercase and lowercase letters** (`A-Z`, `a-z`), \n",
    "  **digits** (`0-9`), and the **underscore** character `_`.\n",
    "* The **first character** of a variable name **cannot be a digit**.\n",
    "* By convention, **variable names starting with a single or double underscore `_`/`__` are reserved \n",
    "  for \"special\" variables** (class private attributes, \"magic\" variables).\n",
    "* Examples:\n",
    "    * `var_1` is a valid variable name.\n",
    "    * `1_var` is **not** a valid name (starts with a digit).\n",
    "    * `var-1` is **not** a valid name (contains a the non-authorized character `-`).\n",
    "    * `__var_1__` is valid, but **should not be used**, with the exception of very specific situations.\n",
    "\n",
    "<br>\n",
    "\n",
    "**Important tips**:\n",
    "* Using **explicit variable names makes your code easier to read** for others, and possibly yourself \n",
    "  in a not-so-distant future.  \n",
    "  E.g. `input_file` is a better variable name than `iptf`, even if it is a bit longer.\n",
    "* **Never use python built-in names as variable names**, otherwise you will overwrite this object in the \n",
    "  namespace.  \n",
    "  E.g. don't call a variable `str`, `int` or `list` (this can be painful to debug)."
   ]
  },
  {
   "cell_type": "code",
   "execution_count": null,
   "metadata": {
    "scrolled": true
   },
   "outputs": [],
   "source": [
    "my_variable = 35        # Assign the value 35 to the variable name \"my_variable\".\n",
    "var_a = \"hello python\"  # Assign the value \"hello python\" to variable \"var_a\".\n",
    "var_b = var_a           # Assign the value of \"var_a\" to \"var_b\".\n",
    "\n",
    "# By the way, text located after a \"#\" character - just like this line - are \"comments\".\n",
    "# Comments are text that will not be executed, but is useful for code documentation.\n",
    "print(my_variable)\n",
    "print(var_a)\n",
    "print(var_b)"
   ]
  },
  {
   "cell_type": "markdown",
   "metadata": {},
   "source": [
    "\n",
    "\n",
    "### Code indentation - the importance of white spaces in Python <a id='2'></a>\n",
    "\n",
    "**Indentation** is the number of **white spaces before the first text element** (on a given line).\n",
    "\n",
    "```python\n",
    "    |var_1 = 2    # This line is not indented.\n",
    "    | var_1 = 2   # This line is indented by 1 space.\n",
    "     ^\n",
    "    |  var_1 = 2  # This line is indented by 2 spaces.\n",
    "     ^^\n",
    "```\n",
    "\n",
    "* Unlike many other languages, **indentation is part of the language syntax in Python**,\n",
    "  and it has a very important meaning: it is used to define a so-called **\"code block\"**\n",
    "  (more on that later in the course).\n",
    "* Using proper **indentation is an integral part of python** - unlike most other languages where it's\n",
    "  just good practice.\n",
    "* When outside of a \"code block\", there should be no indentation on the line.\n",
    "* A wrong level of indentation will trigger an `IndentationError`.\n",
    "* Comments can have any indentation level."
   ]
  },
  {
   "cell_type": "code",
   "execution_count": null,
   "metadata": {},
   "outputs": [],
   "source": [
    "var_1 = \"abc\"    # No indentation -> valid syntax.\n",
    " var_1 = \"abc\"   # unexpected indentation (i.e. outside of a code block) -> IndentationError\n",
    " \n",
    "     # Comment lines, however, can be indented as you wish."
   ]
  },
  {
   "cell_type": "markdown",
   "metadata": {},
   "source": [
    "When assigning a variable, white spaces after the variable name do not matter. However the [Python style convention](https://www.python.org/dev/peps/pep-0008/#whitespace-in-expressions-and-statements) is to have **exactly 1 space** on each side of the `=` operator when assigning a variable.\n"
   ]
  },
  {
   "cell_type": "code",
   "execution_count": null,
   "metadata": {},
   "outputs": [],
   "source": [
    "var_1 = \"abc\"                   # Valid syntax and good style.\n",
    "var_1           =        \"abc\"  # Valid syntax but bad style -> please avoid.\n",
    "print(var_1)"
   ]
  },
  {
   "cell_type": "markdown",
   "metadata": {},
   "source": [
    "\n",
    "### Functions <a id='3'></a>\n",
    "Another very important concept in Python - as in most programming language - are **functions**:\n",
    "* Functions are **re-usable blocks of code** that have been given a name and are designed to perform an action.\n",
    "  How to define your own functions will be covered in Module 2 of this course.\n",
    "* Functions can be written to perform anything, from the simplest task to the most complex.\n",
    "* To **call a function**, one uses its name followed by parentheses `()`, which can contain an eventual set of \n",
    "  **arguments**.\n",
    "* Values passed to functions are called **arguments**, they can be **mandatory** (positional arguments)\n",
    "  or **optional** (keyword arguments).\n",
    "\n",
    "**Example:** to call the \"print\" function, we type `print()` and pass the text to print inside the `()`.\n",
    "  "
   ]
  },
  {
   "cell_type": "code",
   "execution_count": null,
   "metadata": {},
   "outputs": [],
   "source": [
    "print(\"This will be printed\")                     # 1 argument is passed to the print().\n",
    "print(\"This\", \"will\", \"be\", \"printed\", sep=\"--\")  # 5 arguments are passed to print()."
   ]
  },
  {
   "cell_type": "markdown",
   "metadata": {},
   "source": [
    "<br>\n",
    "\n",
    "#### Positional vs. keyword arguments\n",
    "\n",
    "**Arguments** are the variables/values that the function uses as input to do its job. \n",
    "\n",
    "Example of the `print()` function:\n",
    "\n",
    "    print(value, ..., sep=' ', end='\\n', file=sys.stdout, flush=False)\n",
    "\n",
    "> Note: the above line (function name + arguments) is often referred to as the function's **signature**.\n",
    "\n",
    "<br>\n",
    "\n",
    "In Python, we differentiate between two types of arguments:\n",
    "  * **Positional** arguments:\n",
    "      * **Are mandatory** - the function will not execute without them.\n",
    "      * Their position in the call to the function is important.  \n",
    "        E.g. `divmod(11, 5)` - [which returns the quotient and remainder of a \n",
    "        division](https://docs.python.org/3/library/functions.html#divmod) - \n",
    "        does not give the same result as `divmod(5, 11)`.\n",
    "\n",
    "<br>\n",
    "\n",
    "  * **Keyword** arguments:\n",
    "      * **Are optional** and have a **default value**.\n",
    "      * Are passed to the function with the syntax `function(argument_name=value)`.\n",
    "      * Keyword arguments **can be passed in any order**... as long as they are passed\n",
    "        **after positional arguments**."
   ]
  },
  {
   "cell_type": "code",
   "execution_count": null,
   "metadata": {},
   "outputs": [],
   "source": [
    "answer = 42\n",
    "print(\"The answer is\", answer, sep=\" -> \", end=\"--\\n\")\n",
    "print(\"The answer is\", answer, end=\"--\\n\", sep=\" -> \")"
   ]
  },
  {
   "cell_type": "markdown",
   "metadata": {},
   "source": [
    "\n",
    "\n",
    "### Methods\n",
    "\n",
    "**Methods** are very similar to functions, except that they **are associated to a specific object type**.  \n",
    "Since methods are associated to a specific object type, the syntax used to call them is the following:\n",
    "\n",
    "* `object.method()` - syntax to call a **method of an object**.\n",
    "\n",
    "\n",
    "<br>\n",
    "\n",
    "**Example:** calling the `.upper()` method of a string."
   ]
  },
  {
   "cell_type": "code",
   "execution_count": null,
   "metadata": {},
   "outputs": [],
   "source": [
    "test_string = \"hello world!\"\n",
    "upper_case_string = test_string.upper()\n",
    "\n",
    "print(upper_case_string)"
   ]
  },
  {
   "cell_type": "markdown",
   "metadata": {},
   "source": [
    "> **Important:** don't forget the `()` when calling a method/function that takes no arguments.\n",
    "> Otherwise you will not call the method/function, but access the \"function object\" itself.\n",
    ">\n",
    "> ```python\n",
    "> test_string.upper()  # -> calls the \"upper\" method on \"test_string\".\n",
    "> test_string.upper    # -> returns a function object.\n",
    "> ```"
   ]
  },
  {
   "cell_type": "markdown",
   "metadata": {},
   "source": [
    "\n",
    "## Object types: simple types <a id='7'></a>\n",
    "\n",
    "**Everything in python is an object**, and each object is of a specific **type** (the type is the class of the object).\n",
    "\n",
    "There exist plenty of types (it is even common to define your own new type), but there are a few very common ones - known as **built-in** types - that you ought to know:\n",
    "\n",
    "* **`bool`**: boolean/logical values, either `True` or `False`, like 0 or 1.\n",
    "* **`int`**: integer number.\n",
    "* **`float`**: floating point number (numbers with a decimal fraction).\n",
    "\n",
    "To know the type of an object, we can make use of the **`type()`** function.  \n"
   ]
  },
  {
   "cell_type": "code",
   "execution_count": null,
   "metadata": {},
   "outputs": [],
   "source": [
    "print(type(True))\n",
    "print(type(11))\n",
    "print(type(\"hello world\"))\n",
    "print(type(print))"
   ]
  },
  {
   "cell_type": "markdown",
   "metadata": {},
   "source": [
    "<br>\n",
    "\n",
    "**A few comments about types in python:**\n",
    "* Python is a **dynamically typed** language\\*\\* (as opposed to **statically typed** \n",
    "  languages such as C or C++ e.g.). This means that variables are declared without a specific type, \n",
    "  and the type is assigned based on what object is assigned to the variable.  \n",
    "  This has its advantages (easier and faster to write code) and downsides (e.g. type error bugs can \n",
    "  remain hidden for a long time until they are triggered by some unusual input data).\n",
    "\n",
    "  \\*\\* Starting with python 3.6, it is possible (as an option) to add **type annotations** for\n",
    "  variables, but these are not enforced at runtime.\n",
    "  \n",
    "  <br>\n",
    "  \n",
    "* A corollary is that variables in Python are not restricted to a single type and can be reassigned \n",
    "  another type of value at any time.\n",
    " \n",
    "<br>\n",
    "\n",
    "**Example:** here we successively assign different values and types to the variable `a`."
   ]
  },
  {
   "cell_type": "code",
   "execution_count": null,
   "metadata": {
    "scrolled": true
   },
   "outputs": [],
   "source": [
    "# Boolean\n",
    "a = True\n",
    "print(\"Type of a is now:\", type(a))\n",
    "\n",
    "# Float\n",
    "a = 4.2\n",
    "print(\"Type of a is now:\", type(a))\n",
    "\n",
    "# Integer\n",
    "a = 42\n",
    "print(\"Type of a is now:\", type(a))"
   ]
  },
  {
   "cell_type": "markdown",
   "metadata": {},
   "source": [
    "### Type conversion <a id='8'></a>\n",
    "\n",
    "Converting from one type to another is (often) fairly easy: just use the type name as a function.\n",
    "\n",
    "**Example:** convert an integer to a float."
   ]
  },
  {
   "cell_type": "code",
   "execution_count": null,
   "metadata": {},
   "outputs": [],
   "source": [
    "a = 42\n",
    "print(\"Type of 'a' before conversion:\", type(a), \", a = \", a)\n",
    "\n",
    "a = float(a)\n",
    "print(\"Type of 'a' after conversion:\", type(a), \", a = \", a)"
   ]
  },
  {
   "cell_type": "markdown",
   "metadata": {},
   "source": [
    "**Example:** convert to string"
   ]
  },
  {
   "cell_type": "code",
   "execution_count": null,
   "metadata": {},
   "outputs": [],
   "source": [
    "a = str(a)\n",
    "print(\"Type of 'a' after conversion:\", type(a), \", a = \", a)"
   ]
  },
  {
   "cell_type": "markdown",
   "metadata": {
    "vscode": {
     "languageId": "python"
    }
   },
   "source": [
    "Converting to string is useful when concatenating a string and a number:"
   ]
  },
  {
   "cell_type": "code",
   "execution_count": null,
   "metadata": {},
   "outputs": [],
   "source": [
    "# This fails, because we cannot add strings and integers types.\n",
    "print(\"This will fail, \" + 2 + \" bad\")"
   ]
  },
  {
   "cell_type": "code",
   "execution_count": null,
   "metadata": {},
   "outputs": [],
   "source": [
    "# This works, because we convert the integer 4 to a string \"4\" before the concatenation.\n",
    "print(\"This will work \" + str(4) + \" sure\")"
   ]
  },
  {
   "cell_type": "markdown",
   "metadata": {},
   "source": [
    "## Operators <a id='10'></a>\n",
    "Now that we have variables containing objects of a certain **type**, we can begin to manipulate them using **operators**.\n",
    "<br>\n",
    "\n",
    "### Arithmetic operators  <a id='11'></a>\n",
    "You know most of these already:"
   ]
  },
  {
   "cell_type": "code",
   "execution_count": null,
   "metadata": {
    "scrolled": true
   },
   "outputs": [],
   "source": [
    "print( 3 + 7 )      # + : addition\n",
    "print( 1.1 - 5 )    # - : subtraction\n",
    "print( 5 * 2 )      # * : multiplication\n",
    "print( 5 / 2 )      # / : division\n",
    "print( 2 ** 4 )     # **: power\n",
    "print( 5 // 2 )     # //: integer division (only the integer part of the quotient is kept,\n",
    "                    #     the fractional part is discarded: 2.5 -> 2)\n",
    "print( 5 % 2 )      # % : modulus = remainder of the integer division: 5 % 2 -> 1\n",
    "\n",
    "# As you would expect, variables can be used with operators as well:\n",
    "x = 4\n",
    "y = 16 * x**2 - 2 * x + 0.5 \n",
    "print(y)"
   ]
  },
  {
   "cell_type": "markdown",
   "metadata": {},
   "source": [
    "\n",
    "### Comparison operators <a id='12'></a>\n",
    "\n",
    "These operators return a `bool` value: `True` or `False`."
   ]
  },
  {
   "cell_type": "code",
   "execution_count": null,
   "metadata": {},
   "outputs": [],
   "source": [
    "a = 5\n",
    "\n",
    "print(\"is a equal to 1?:\", a == 1)              # == : equality\n",
    "print(\"is a different to 13.37?:\", a != 13.37)  # != : inequality\n",
    "print(\"is a greater than 5?:\", a > 5 )          # >  : larger than\n",
    "print(\"is a lower than 10?:\", a < 10 )          # <  : lower than\n",
    "print(\"is a above 5?:\", a >= 5 )                # <= : lower or equal\n",
    "print(\"is a lower than 10?:\", a <= 10 )         # >= : larger or equal"
   ]
  },
  {
   "cell_type": "markdown",
   "metadata": {},
   "source": [
    "**Warning:** comparisons are type-sensitive, so the following expression evaluates to `False`:"
   ]
  },
  {
   "cell_type": "code",
   "execution_count": null,
   "metadata": {},
   "outputs": [],
   "source": [
    "a = 5\n",
    "print(\"is 'a' equal to '5'?:\", a == \"5\")"
   ]
  },
  {
   "cell_type": "markdown",
   "metadata": {},
   "source": [
    "Boolean values (the result from a comparison) can be:\n",
    "* **Combined** using `and` or `or`:\n",
    "\n",
    "    | Combining with `and` | **True** | **False** |\n",
    "    |----------------------|----------|-----------|\n",
    "    | **True**             | True     |  False    |\n",
    "    | **False**            | Flase    |  False    |\n",
    "  \n",
    "    | Combining with `or`  | **True** | **False** |\n",
    "    |----------------------|----------|-----------|\n",
    "    | **True**             | True     |  True     |\n",
    "    | **False**            | True     |  False    |\n",
    "  \n",
    "  <br>\n",
    "  \n",
    "* **Inverted** using `not`: `True` becomes `False`, and `False` becomes `True`."
   ]
  },
  {
   "cell_type": "code",
   "execution_count": null,
   "metadata": {},
   "outputs": [],
   "source": [
    "a = 5\n",
    "\n",
    "print(\"'and' requires both elements to be True:\" , True and ( 1 + 1 != 2 ) )\n",
    "print(\"'or' requires at least element to be True:\" , ( a * 2 > 10 ) or ( a > 0 ) )\n",
    "print(\"'not' inverses a boolean value! This is simply\", not False)"
   ]
  },
  {
   "cell_type": "markdown",
   "metadata": {},
   "source": [
    "## Object types: container types <a id='14'></a>\n",
    "\n",
    "These built-in types are object that contain other objects:\n",
    "\n",
    "* **`str`**: string - text.\n",
    "* **`list`**: **mutable** list of objects (mutable = can be modified after it was created).\n",
    "* **`tuple`**: **immutable** list of objects (immutable = cannot be modified after it was created).\n",
    "* **`dict`**: dictionary associating 'key' to 'value'.\n",
    "\n",
    "Container objects share some common characteristics, such as:\n",
    "* They have a dedicated **`[]`** operator that lets user access one - or several - of the objects they contain.\n",
    "* The number of objects a container has (its length) can be accessed using the **`len()`** function.\n",
    "* Container objects are **iterables**: one can iterate over them using e.g. a `for` loop (see Notebook 2 of this course).\n",
    "\n",
    "**Important:** in python (unlike e.g. in R), **indexing is zero-based**. This means that the first element of a container type object is accessed with `object[0]`, and not `object[1]`."
   ]
  },
  {
   "cell_type": "markdown",
   "metadata": {},
   "source": [
    "## Strings <a id='15'></a>\n",
    "In python, the **`string`** type is a **sequences of characters** that can be used to represent text of any length.\n",
    "\n",
    "* Strings can be declared using either **single `'`** or **double `\"`** quotes. "
   ]
  },
  {
   "cell_type": "code",
   "execution_count": null,
   "metadata": {
    "scrolled": true
   },
   "outputs": [],
   "source": [
    "gene_seq = \"ATGCGACTGATCGATCGATCGATCGATGATCGATCGATCGATGCTAGCTAC\"\n",
    "name = 'Sir Lancelot of Camelot'\n",
    "print(gene_seq)\n",
    "print(name)"
   ]
  },
  {
   "cell_type": "markdown",
   "metadata": {},
   "source": [
    "Remember that strings are *container* variables, that is why we represent each letters as different elements.\n",
    "\n",
    "Each element is associated an **index**, starting at 0.\n",
    "\n",
    "\n"
   ]
  },
  {
   "cell_type": "code",
   "execution_count": null,
   "metadata": {},
   "outputs": [],
   "source": [
    "my_str = \"text\"\n",
    "print(\"The second element of the string is:\", my_str[1])"
   ]
  },
  {
   "cell_type": "markdown",
   "metadata": {},
   "source": [
    "* **Triple quotes** can be used to define multi-line strings."
   ]
  },
  {
   "cell_type": "code",
   "execution_count": null,
   "metadata": {},
   "outputs": [],
   "source": [
    "long_string = \"\"\"Let me tell you something, my lad. \n",
    "When you’re walking home tonight and some great \n",
    "homicidal maniac comes after you with a bunch \n",
    "of loganberries, don’t come crying to me!\\n\"\"\"\n",
    "print(long_string)"
   ]
  },
  {
   "cell_type": "markdown",
   "metadata": {},
   "source": [
    "* **Accented and special characters** are possible in strings. In example:\n",
    "  * **`\\t`** = tab\n",
    "  * **`\\n`** = new line"
   ]
  },
  {
   "cell_type": "code",
   "execution_count": null,
   "metadata": {},
   "outputs": [],
   "source": [
    "my_quote = \"\"\"Gracieux : « aimez-vous à ce point les oiseaux\n",
    "que paternellement vous vous préoccupâtes\n",
    "de tendre ce perchoir à leurs petites pattes ? »\\n\"\"\"\n",
    "print(my_quote)\n",
    "\n",
    "# Example of inserting a tab/new line in a string:\n",
    "print('Hello\\tWorld')  # \\t : tabulation\n",
    "print('Hello\\nWorld')  # \\n : newline"
   ]
  },
  {
   "cell_type": "markdown",
   "metadata": {},
   "source": [
    "<br>\n",
    "\n",
    "### Length of a string <a id='16'></a>\n",
    "The **`len()`** function can be used on a string to return its length:"
   ]
  },
  {
   "cell_type": "code",
   "execution_count": null,
   "metadata": {},
   "outputs": [],
   "source": [
    "name = 'Sir Lancelot of Camelot'\n",
    "print(\"The number of characters in the string '\", name, \"' is: \", len(name), sep='')"
   ]
  },
  {
   "cell_type": "markdown",
   "metadata": {},
   "source": [
    "<br>\n",
    "\n",
    "### String concatenation <a id='17'></a>\n",
    "* Strings can be concatenated with the **`+`** operator.\n",
    "* Strings can be \"multiplied\" (i.e. repeatedly concatenated) with the **`*`** operator."
   ]
  },
  {
   "cell_type": "code",
   "execution_count": null,
   "metadata": {},
   "outputs": [],
   "source": [
    "print(\"dead\" + \"-\" + \"parrot\") \n",
    "print(\"spam\" * 5)"
   ]
  },
  {
   "cell_type": "markdown",
   "metadata": {},
   "source": [
    "<div class=\"alert alert-block alert-info\">\n",
    "\n",
    "#### [Additional Material] f-strings\n",
    "\n",
    "Python [f-strings (formatted string literals)](https://docs.python.org/3/reference/lexical_analysis.html#f-strings) allow to easily create strings that combine one or more variables with some hard-coded characters.\n",
    "\n",
    "The syntax is simply to:\n",
    "* Prefix the string with `f\"This is an f-string\".`\n",
    "* Inside an f-string, variable content can be accessed using curly braces, as in\n",
    "  `f\"This is a {variable_name}.\"`.  \n",
    "  Here, `{variable_name}` will expand to the content of the variable `variable_name`.\n",
    "\n",
    "**Examples:**\n",
    "\n",
    "```python\n",
    "# Example 1:\n",
    "first_name = \"Alice\"\n",
    "last_name = \"Smith\"\n",
    "\n",
    "full_name = f\"{first_name} {last_name}\"   # Same as: full_name = first_name + \" \" + last_name\"\n",
    "print(f\"Her full name is {full_name}.\")   # -> Her full name is Alice Smith.\n",
    "\n",
    "# Example 2:\n",
    "animal = \"cat\"\n",
    "container = \"bag\"\n",
    "\n",
    "print(f\"The {animal} is out of the {container}!\")  # -> The cat is out of the bag!\n",
    "```\n",
    "    \n",
    "</div>"
   ]
  },
  {
   "cell_type": "markdown",
   "metadata": {},
   "source": [
    "<br>\n",
    "\n",
    "### String slicing <a id='18'></a>\n",
    "\n",
    "Because strings are a type of sequence (a sequence of characters), the different characters of a string can be accessed using the **`[]` operator**, with the index of the desired element(s).  \n",
    "\n",
    "* Remember that in python, **the index of the first element is `[0]`**.\n",
    "* Negative indices will access characters starting from the end of the string. E.g. `[-1]` returns the\n",
    "  last character in the string.\n",
    "  \n",
    "  "
   ]
  },
  {
   "cell_type": "code",
   "execution_count": null,
   "metadata": {},
   "outputs": [],
   "source": [
    "my_string = \"And now, something completely different.\"\n",
    "\n",
    "print(\"The first element of this string is:\", my_string[0] )  # 0 is the index of the 1st element of the string.\n",
    "print(\"The 5th element of this string is:\", my_string[4] )    # 5th element of the string.\n",
    "print(\"The last element of this string is:\", my_string[-1] )  # -1 is the index of the last element of the string."
   ]
  },
  {
   "cell_type": "markdown",
   "metadata": {},
   "source": [
    "<br>\n",
    "\n",
    "Indices can also be used to retrieve several elements at once: this is called a **slice operation** or **slicing**:\n",
    "* The general syntax of slicing is `[start index: end index (excluded): step]`\n",
    "* The end index position is **excluded from the slice**.\n",
    "* The **default step value is 1**. It can be omitted (and usually is).\n",
    "* If the start index is omitted, the slicing is implicitly done from the beginning of the string. `string[:10]`\n",
    "* If the end index is omitted, the slicing is implicitly done until the end of the string. `string[10:]`"
   ]
  },
  {
   "cell_type": "code",
   "execution_count": null,
   "metadata": {},
   "outputs": [],
   "source": [
    "my_string = \"And now, something completely different.\"\n",
    "\n",
    "print(my_string)\n",
    "print(my_string[0:5])   # Slice operation: get all elements from index 0 (included) to index 5 (excluded)\n",
    "print(my_string[:5])    # Implicitly slices from the beginning of the string up to (but not included) index 5.\n",
    "print(my_string[5:])    # Implicitly slices until the end of the string.\n",
    "print(my_string[5::2])  # Keep every second letter, starting from index 5 to the end of the string."
   ]
  },
  {
   "cell_type": "markdown",
   "metadata": {},
   "source": [
    "**Tip:** you can reverse a sequence (such as a string) by using the **`[::-1]`** slicing operation."
   ]
  },
  {
   "cell_type": "code",
   "execution_count": null,
   "metadata": {},
   "outputs": [],
   "source": [
    "print(my_string[::-1])  # Goes through the string from end to start -> reverses the string !"
   ]
  },
  {
   "cell_type": "markdown",
   "metadata": {},
   "source": [
    "<br>\n",
    "\n",
    "# Module 2 - Data Structures <a id='0'></a>\n",
    "--------------------------"
   ]
  },
  {
   "cell_type": "markdown",
   "metadata": {},
   "source": [
    "## Lists and tuples <a id='20'></a>\n",
    "\n",
    "Lists are **sequence type** objects that can contain any type of elements (other objects).\n",
    "* **Lists** are declared by surrounding a comma separated list of objects with **`[]`**.  \n",
    "  Example: `[\"This\", \"is\", \"a list\", \"with\", 6, \"items\"]`\n",
    "\n",
    "<br>\n",
    "\n",
    "#### Creating a list"
   ]
  },
  {
   "cell_type": "code",
   "execution_count": null,
   "metadata": {},
   "outputs": [],
   "source": [
    "# Create a new list, here populated with integer numbers.\n",
    "another_list = [0, 1, 1, 2, 3, 5, 8, 13, 21, 34]\n",
    "\n",
    "print(\"\\nThe content of my_list is:\", another_list)\n",
    "print(\"length of my list is:\", len(another_list))"
   ]
  },
  {
   "cell_type": "markdown",
   "metadata": {},
   "source": [
    "* List items can be of **heterogenous type**.\n",
    "* List **items can be of any type**: therefore it's possible to nest lists within other lists."
   ]
  },
  {
   "cell_type": "code",
   "execution_count": null,
   "metadata": {},
   "outputs": [],
   "source": [
    "my_list = [1, 2, \"spam\", \"eggs\", 5.2, [2, \"spam\"]]\n",
    "\n",
    "print(\"The content of my_list is:\", my_list)\n",
    "print(\"length of my list is:\", len(my_list))"
   ]
  },
  {
   "cell_type": "code",
   "execution_count": null,
   "metadata": {},
   "outputs": [],
   "source": [
    "list_1 = []"
   ]
  },
  {
   "cell_type": "markdown",
   "metadata": {},
   "source": [
    "<br>\n",
    "\n",
    "#### Creating lists from iterables (e.g. sequences such as lists, tuples, or a range)\n",
    "\n",
    "* Objects that are *iterables* can be converted to lists using the `list()` function."
   ]
  },
  {
   "cell_type": "code",
   "execution_count": null,
   "metadata": {},
   "outputs": [],
   "source": [
    "# Creating a list from a \"range\" type object.\n",
    "list_1 = list(range(21))\n",
    "print(list_1)"
   ]
  },
  {
   "cell_type": "markdown",
   "metadata": {},
   "source": [
    "> What are **`range`** objects?  \n",
    "> `range` objects are sequences of **integer numbers**, e.g. `0, 1, 2, 3, 4, ...`.\n",
    ">\n",
    "> By default, a call to `range(x)` creates a sequence of integers from `0` to `x`, `x` excluded.\n",
    ">\n",
    "> **Examples**:\n",
    "> * `range(10)`    -> `0, 1, 2, 3, 4, 5, 6, 7, 8, 9`\n",
    "> * `range(3, 7)` -> `3, 4, 5, 6`"
   ]
  },
  {
   "cell_type": "markdown",
   "metadata": {},
   "source": [
    "### Accessing values: list slicing <a id='21'></a>\n",
    "\n",
    "* Accessing an element (or a range of elements) in a list is done using the **`[]`** operator.\n",
    "* The **`[]` operator** works in much the same way than with strings, and allows\n",
    "  **accessing individual objects** from a list, or **slicing** it.\n",
    "\n",
    "* As with strings, remember that the **end position index is excluded** from the slicing."
   ]
  },
  {
   "cell_type": "code",
   "execution_count": null,
   "metadata": {},
   "outputs": [],
   "source": [
    "my_list = [1, 2, \"spam\", \"eggs\", 5.2, [2, \"spam\"]]\n",
    "\n",
    "print(my_list)\n",
    "print(my_list[0])   # Get the 1st item of the list.\n",
    "print(my_list[2:])  # Get all elements from index 2 (i.e. the 3rd element) to the end of the list."
   ]
  },
  {
   "cell_type": "markdown",
   "metadata": {},
   "source": [
    "<br>\n",
    "\n",
    "* If we try to access an index that does not exist in the list, an **`IndexError`** is raised.\n",
    "\n",
    "```py\n",
    "    my_list = [1, 2, \"spam\"]\n",
    "    my_list[3]\n",
    "\n",
    "    ---------------------------------------------------------------------------\n",
    "    IndexError                                Traceback (most recent call last)\n",
    "    Input In [26], in <module>\n",
    "          1 my_list = [1, 2, \"spam\"]\n",
    "    ----> 2 my_list[3]\n",
    "\n",
    "    IndexError: list index out of range\n",
    "```"
   ]
  },
  {
   "cell_type": "markdown",
   "metadata": {},
   "source": [
    "<br>\n",
    "\n",
    "[Back to ToC](#toc)\n",
    "\n",
    "### Tuples\n",
    "\n",
    "Tuples are very similar to lists in that they also are a **sequence type** objects that can contain any type of element (other objects).  \n",
    "* **Tuples** are declared using the syntax **`(value1, value2, ...)`**.\n",
    "* Values in **tuples** can be accessed and sliced in the same way as lists are.\n",
    "* The main difference between lists and tuples is that **the values in a tuple cannot be changed**\n",
    "  once the tuple has been created. This means that we cannot add/remove values from a tuple, nor can\n",
    "  we modify a value inside it."
   ]
  },
  {
   "cell_type": "markdown",
   "metadata": {},
   "source": [
    "#### Create a tuple\n",
    " * **Important:** if a tuple contains a single element, then the last (and only) element of the tuple must be\n",
    "   followed by a comma.\n",
    " * If the tuple contains multiple elements, then this final comma is not necessary (but allowed).\n",
    "     ```py\n",
    "     a_tuple = (value, )`   # Correct syntax.\n",
    "     a_tuple = (value)      # This will NOT create a tuple, but a regular value.\n",
    "     ```"
   ]
  },
  {
   "cell_type": "code",
   "execution_count": null,
   "metadata": {},
   "outputs": [],
   "source": [
    "# Create a tuple of 3 elements.\n",
    "tuple_1 = (\"spam\", \"eggs\", \"coconuts\")\n",
    "\n",
    "print(tuple_1)"
   ]
  },
  {
   "cell_type": "code",
   "execution_count": null,
   "metadata": {},
   "outputs": [],
   "source": [
    "# Create a tuple of 1 element.\n",
    "tuple_1 = (\"spam\", )\n",
    "\n",
    "print(\"Content of variable:\", tuple_1)\n",
    "print(\"Length of tuple is :\", len(tuple_1))\n",
    "print(\"type of variable   :\", type(tuple_1))"
   ]
  },
  {
   "cell_type": "code",
   "execution_count": null,
   "metadata": {},
   "outputs": [],
   "source": [
    "# Create a tuple from a list.\n",
    "list_1 = [\"a\", \"sequence\", \"of\", \"strings\"]\n",
    "tuple_1 = tuple(list_1)\n",
    "\n",
    "print(tuple_1)"
   ]
  },
  {
   "cell_type": "markdown",
   "metadata": {},
   "source": [
    "<br>\n",
    "\n",
    "#### Creating empty tuples\n",
    "* Empty tuples can be created with `()` or `tuple()`.\n",
    "* Note that because tuples cannot be changed after they are created, it is not possible to add elements\n",
    "  to an empty tuple."
   ]
  },
  {
   "cell_type": "code",
   "execution_count": null,
   "metadata": {},
   "outputs": [],
   "source": [
    "tuple_1 = ()\n",
    "tuple_1 = tuple()\n",
    "\n",
    "print(\"Content:\", tuple_1, \" Type:\", type(tuple_1), \" Length:\", len(tuple_1))"
   ]
  },
  {
   "cell_type": "markdown",
   "metadata": {},
   "source": [
    "<br>\n",
    "\n",
    "### When to use `list` or `tuple`? Mutability - an important difference between lists and tuples <a id='22'></a>\n",
    "\n",
    "* A `list` is **mutable**: it can be extended, reduced, and its elements can be changed.\n",
    "* A `tuple` is **immutable**: its length is fixed and its elements cannot be changed.\n",
    "\n",
    "<br>\n",
    "\n",
    "**Use tuples** when:\n",
    "  * You need to store a sequence of objects that will not change in your program (fixed length).\n",
    "  * You want to be sure that a sequence of objects will not be accidentally modified - a\n",
    "    sort of **write-protection**.\n",
    "  * Tuples are slightly more memory efficient than list.\n",
    "      ```py\n",
    "        import sys\n",
    "        print(sys.getsizeof((1, 2, 3, 4, 5)))  # -> 80 bytes\n",
    "        print(sys.getsizeof([1, 2, 3, 4, 5]))  # -> 96 bytes.\n",
    "      ```\n",
    "\n",
    "<br>\n",
    "\n",
    "**Use lists** when:\n",
    "  * You need to store a sequence of objects that will be modified over time.\n",
    "  * You need to have a sequence that can be grown (add elements) or shrunk (remove elements).\n",
    "\n",
    "<br>\n",
    "\n",
    "For more details about object mutability in python, see the **Additional Theory** section at the end of this notebook.\n",
    "\n",
    "<br>\n",
    "\n",
    "**Example:** because lists are mutable, we can modify an element in a list (or add/remove an element from a list)."
   ]
  },
  {
   "cell_type": "code",
   "execution_count": null,
   "metadata": {},
   "outputs": [],
   "source": [
    "# Create a new list.\n",
    "sandwich_ingredients = [\"spam\", \"ham\", 3, \"eggs\"]\n",
    "\n",
    "# We now modify the 4th element of the list:\n",
    "sandwich_ingredients[3] = \"and spam\"\n",
    "\n",
    "print(sandwich_ingredients)"
   ]
  },
  {
   "cell_type": "code",
   "execution_count": null,
   "metadata": {},
   "outputs": [],
   "source": [
    "my_list = [1 , 2 , 5]\n",
    "print(\"Initially, my list is:\\n\", my_list)"
   ]
  },
  {
   "cell_type": "markdown",
   "metadata": {},
   "source": [
    "* Calling the `.append()` method of a list (here `my_list`) adds the specified element at the end of the list:"
   ]
  },
  {
   "cell_type": "code",
   "execution_count": null,
   "metadata": {},
   "outputs": [],
   "source": [
    "my_list.append(\"ham\") \n",
    "print(\"The list, after appending 'ham' is now:\\n\", my_list)"
   ]
  },
  {
   "cell_type": "markdown",
   "metadata": {},
   "source": [
    "<br>\n",
    "\n",
    "* Trying to add a string to a list with **`.extend()`** can lead to unexpected results."
   ]
  },
  {
   "cell_type": "code",
   "execution_count": null,
   "metadata": {},
   "outputs": [],
   "source": [
    "my_list.extend(\"eggs\")\n",
    "print(my_list)"
   ]
  },
  {
   "cell_type": "code",
   "execution_count": null,
   "metadata": {},
   "outputs": [],
   "source": [
    "my_list = [1, 2, 3]\n",
    "my_list += [\"spam\", \"eggs\"]   # This is the same as: my_list = my_list + [\"spam\", \"eggs\"]\n",
    "\n",
    "print(my_list)\n",
    "print(\"List length:\", len(my_list), \"\\n\")"
   ]
  },
  {
   "cell_type": "markdown",
   "metadata": {
    "vscode": {
     "languageId": "python"
    }
   },
   "source": [
    "#### `insert()` method\n",
    "\n",
    "* Adding en element at a **specific position in the list** can be done with the **`insert()`** method.\n",
    "* In this example, we add an element in second position of `my_list`.\n",
    "* Remember that Python indices start with 0, so inserting before position 1 puts \n",
    "  the new object in second position in `my_list` (and not in the first)."
   ]
  },
  {
   "cell_type": "code",
   "execution_count": null,
   "metadata": {},
   "outputs": [],
   "source": [
    "my_list = [1, 2, 3]\n",
    "my_list.insert(1 , \"beans\") \n",
    "print(\"list after insert:\", my_list)"
   ]
  },
  {
   "cell_type": "markdown",
   "metadata": {},
   "source": [
    "<br>\n",
    "\n",
    "### Deleting elements in a list\n",
    "\n",
    "* `list_object.pop(x)`: **deletes** the element at position `x` **and returns it**.\n",
    "  If no arguments are passed to `pop()`, the last element of the list is removed by default.\n",
    "* `del list_object[]`: **deletes** a single element or a slice.\n",
    "\n",
    "*Note:* using the `.pop()` method is generally considered to be more *pythonic* than using `del`.\n",
    "\n",
    "**Example:** deleting with `del`:"
   ]
  },
  {
   "cell_type": "code",
   "execution_count": null,
   "metadata": {},
   "outputs": [],
   "source": [
    "a_list = list(range(21))\n",
    "print(\"Original list:\\n\", a_list, \"\\n\")\n",
    "\n",
    "# Delete the last element from the list.\n",
    "del a_list[-1]\n",
    "print(\"Deleted the last element:\\n\", a_list, \"\\n\")\n",
    "\n",
    "# Delete all elements in positions 0 to 9. The element in position 10 is not deleted.\n",
    "del a_list[0:10]\n",
    "print(\"Deleted elements 0-9:\\n\", a_list)"
   ]
  },
  {
   "cell_type": "markdown",
   "metadata": {},
   "source": [
    "<br>\n",
    "\n",
    "**Example:** deleting an item with the `pop()` method:"
   ]
  },
  {
   "cell_type": "code",
   "execution_count": null,
   "metadata": {},
   "outputs": [],
   "source": [
    "a_list = list(range(21))\n",
    "print(\"Original list:\\n\", a_list, \"\\n\")\n",
    "\n",
    "# By default, the last element of the list is removed by pop().\n",
    "removed = a_list.pop()\n",
    "print(\"Removed the last element:\\n\", a_list)\n",
    "print(\"The element removed by pop is:\", removed, end=\"\\n\\n\")\n",
    "\n",
    "# To remove an element at a specific index, the index value must be passed to the .pop() method:\n",
    "removed = a_list.pop(0)\n",
    "print(\"Removed the first element:\\n\", a_list)\n",
    "print(\"The element removed by pop is:\", removed)"
   ]
  },
  {
   "cell_type": "markdown",
   "metadata": {},
   "source": [
    "As can be seen above, the default behavior is that **each letter of the string becomes an element in the list**.\n",
    "\n",
    "However, often we prefer to create a list that contains each word of the string. For this we use the **`split()`** method of string:\n",
    "* The `split()` method is very useful when reading formatted text files.\n",
    "* By default, it splits on white space (i.e. spaces, tabs, newlines).\n",
    "* It accepts an optional `sep` argument that allows separation of fields using the specified character (look up `help(str.split)` for details)."
   ]
  },
  {
   "cell_type": "code",
   "execution_count": null,
   "metadata": {},
   "outputs": [],
   "source": [
    "quote = \"Drop your panties Sir William, I cannot wait till lunchtime.\"\n",
    "words = quote.split()\n",
    "\n",
    "print(words)"
   ]
  },
  {
   "cell_type": "markdown",
   "metadata": {},
   "source": [
    "<br>\n",
    "\n",
    "**To convert a list to a string**, the **`join()`** method can be used - it can be seen as the inverse of `split()`.  \n",
    "Somehow counter-intuitively, the `join()` method applies to strings, and takes a list as argument:"
   ]
  },
  {
   "cell_type": "code",
   "execution_count": null,
   "metadata": {},
   "outputs": [],
   "source": [
    "# Here, the separator calls the join method which accepts the list \"my_list\" as argument.\n",
    "quote = \" \".join(words) \n",
    "print(quote)"
   ]
  },
  {
   "cell_type": "code",
   "execution_count": null,
   "metadata": {},
   "outputs": [],
   "source": [
    "# One can use a more exotic separator - in fact, any string can be used as separator.\n",
    "quote = \"_SEP_\".join(words) \n",
    "print(quote)\n",
    "\n",
    "# TIP: use an empty separator to join characters into a string.\n",
    "a_string = \"\".join(['to','ba','c','co','ni','st']) \n",
    "print(a_string)\n",
    "print(type(a_string))"
   ]
  },
  {
   "cell_type": "markdown",
   "metadata": {},
   "source": [
    "<br>\n",
    "\n",
    "**Tip**: lists can be concatenated with the `+` operator, extended with `+=` (addition assignment) and \"multiplied\" with `*`:"
   ]
  },
  {
   "cell_type": "code",
   "execution_count": null,
   "metadata": {},
   "outputs": [],
   "source": [
    "# Create a new list by appending two lists.\n",
    "list_one = [ \"hello\" , 1159 ]\n",
    "list_two = list_one + [10.1, \"45\", 7]\n",
    "print(list_one)\n",
    "print(list_two)\n",
    "\n",
    "# Extend a list with the += operator.\n",
    "list_one += [\"spam\", \"eggs\"] \n",
    "print(list_one)\n",
    "\n",
    "# As well as multiplication\n",
    "menu = [\"spam\", \"eggs\"] * 3 \n",
    "print(menu)"
   ]
  },
  {
   "cell_type": "markdown",
   "metadata": {},
   "source": [
    "<br>\n",
    "<br>\n",
    "\n",
    "[Back to ToC](#toc)\n",
    "\n",
    "## Dictionaries <a id='26'></a>\n",
    "Dictionaries, or `dict`, are containers that associate a **key** to a **value**, just like a real world dictionary associates a word to its definition.\n",
    "* Dictionaries are instantiated with the `{key:value}` or `dict(key=value)` syntax.\n",
    "\n",
    "    ```python\n",
    "    color_code = {'blue': 23, 'green': 45, 'red': 8}\n",
    "    ```\n",
    "  \n",
    "* **Keys** must be unique in the dictionary, and must be an immutable object (typically a `str`).\n",
    "* **Values** can appear as many time as desired in the dictionary.\n",
    "* The `[]` operator is used to **select objects from the dictionary**, but **using their key** instead\n",
    "  of their index. E.g. `color_code[0]` is not a valid syntax (and will raise a **`KeyError`**), unless\n",
    "  there is a key value of `0` in the dict (which is not the case in our example).\n",
    "  \n",
    "    ```python\n",
    "    color_code['blue']   # returns 23\n",
    "    color_code['red']    # returns 8\n",
    "    ``` \n",
    "* Dictionaries are **mutable** objects: `key:value` pairs can be added and removed, values can be modified."
   ]
  },
  {
   "cell_type": "markdown",
   "metadata": {
    "vscode": {
     "languageId": "python"
    }
   },
   "source": [
    "**Examples:**\n",
    "\n",
    "* **Create a dictionary with values** in it."
   ]
  },
  {
   "cell_type": "code",
   "execution_count": null,
   "metadata": {},
   "outputs": [],
   "source": [
    "student_age = {\n",
    "    \"Anne\": 26 , \n",
    "    \"Victor\": 31,\n",
    "}\n",
    "\n",
    "# Alternatively:\n",
    "student_age = dict(Anne=26, Victor=31)\n",
    "\n",
    "print(student_age)"
   ]
  },
  {
   "cell_type": "markdown",
   "metadata": {},
   "source": [
    "<br>\n",
    "\n",
    "* **Retrieve values** associated with keys."
   ]
  },
  {
   "cell_type": "code",
   "execution_count": null,
   "metadata": {},
   "outputs": [],
   "source": [
    "print(\"The age of Anne is  :\", student_age[\"Anne\"])\n",
    "print(\"The age of Victor is:\", student_age[\"Victor\"])"
   ]
  },
  {
   "cell_type": "markdown",
   "metadata": {},
   "source": [
    "<br>\n",
    "\n",
    "* **Trying to access an element of the `dict` by index is not possible**. It raises a **`KeyError`**, because\n",
    "  python is trying to find the key `0` in the dictionary and it does not exist."
   ]
  },
  {
   "cell_type": "code",
   "execution_count": null,
   "metadata": {},
   "outputs": [],
   "source": [
    "# Trying to access an element of the dict by index -> KeyError\n",
    "student_age[0]"
   ]
  },
  {
   "cell_type": "markdown",
   "metadata": {},
   "source": [
    "* **Adding additional `key:value` pairs** to a dictionary, or modifying an existing key is as easy as:"
   ]
  },
  {
   "cell_type": "code",
   "execution_count": null,
   "metadata": {},
   "outputs": [],
   "source": [
    "student_age[\"Eleonore\"] = 5\n",
    "print(student_age)"
   ]
  },
  {
   "cell_type": "markdown",
   "metadata": {},
   "source": [
    "<br>\n",
    "\n",
    "* **Modifying an existing key** of a dictionary."
   ]
  },
  {
   "cell_type": "code",
   "execution_count": null,
   "metadata": {},
   "outputs": [],
   "source": [
    "student_age[\"Eleonore\"] = 25\n",
    "print(student_age)\n",
    "\n",
    "student_age[\"Eleonore\"] += 1  # Shortcut for: student_age[\"Eleonore\"] = student_age[\"Eleonore\"] + 1\n",
    "print(student_age)"
   ]
  },
  {
   "cell_type": "markdown",
   "metadata": {
    "vscode": {
     "languageId": "python"
    }
   },
   "source": [
    "<br>\n",
    "\n",
    "* **Create an empty dictionary**, then **add values** to it.\n",
    "  * Empty dictionaries can be created with either **`{}`** or **`dict()`**.\n",
    "    Using `{}` is considered more *pythonic*.\n",
    "  * To **add a value to a `dict`**, we simply specify a new key value."
   ]
  },
  {
   "cell_type": "code",
   "execution_count": null,
   "metadata": {},
   "outputs": [],
   "source": [
    "# Create an empty dict.\n",
    "student_age = dict()\n",
    "student_age = {}\n",
    "print(student_age)"
   ]
  },
  {
   "cell_type": "code",
   "execution_count": null,
   "metadata": {
    "scrolled": true
   },
   "outputs": [],
   "source": [
    "# Add new key:value pairs to the dict.\n",
    "student_age[\"Anne\"] = 26\n",
    "print(student_age)\n",
    "\n",
    "student_age[\"Victor\"] = 31\n",
    "print(student_age)"
   ]
  },
  {
   "cell_type": "markdown",
   "metadata": {},
   "source": [
    "<br>\n",
    "\n",
    "We are not restricted to a particular type for keys, nor for values. We can e.g. make a `dict` of lists or `dict` of `dict`.\n",
    "* In practice, it's best to use dictionaries for storing **homogenous values** (i.e. you probably don't want\n",
    "  to store unrelated things in different keys)."
   ]
  },
  {
   "cell_type": "code",
   "execution_count": null,
   "metadata": {},
   "outputs": [],
   "source": [
    "student_age[0] = \"zero\"                             # Key is an integer number.\n",
    "student_age[\"group_1\"] = [23, 25, 28]               # Value is a list.\n",
    "student_age[\"group_2\"] = {\"bob\": 26, \"alice\": 27}   # Value is a dict.\n",
    "\n",
    "print(student_age)\n",
    "print(\"Bob's age is:\", student_age[\"group_2\"][\"bob\"])"
   ]
  }
 ],
 "metadata": {
  "kernelspec": {
   "display_name": "Python 3 (ipykernel)",
   "language": "python",
   "name": "python3"
  },
  "language_info": {
   "codemirror_mode": {
    "name": "ipython",
    "version": 3
   },
   "file_extension": ".py",
   "mimetype": "text/x-python",
   "name": "python",
   "nbconvert_exporter": "python",
   "pygments_lexer": "ipython3",
   "version": "3.12.2"
  }
 },
 "nbformat": 4,
 "nbformat_minor": 4
}
